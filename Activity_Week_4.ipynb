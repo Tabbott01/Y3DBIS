{
  "nbformat": 4,
  "nbformat_minor": 0,
  "metadata": {
    "colab": {
      "provenance": []
    },
    "kernelspec": {
      "name": "python3",
      "display_name": "Python 3"
    },
    "language_info": {
      "name": "python"
    }
  },
  "cells": [
    {
      "cell_type": "markdown",
      "source": [
        "Class Identification Exercise:\n",
        "\n",
        "Create a vector named animals containing the names of three different animals.\n",
        "Use the class() function to identify the class of animals.\n",
        "What class do animals belong to?"
      ],
      "metadata": {
        "id": "ShYV8_SmW1Aa"
      }
    },
    {
      "cell_type": "code",
      "execution_count": null,
      "metadata": {
        "id": "XfyNW1cLW0Iz"
      },
      "outputs": [],
      "source": [
        "animals <- c(\"fox\", \"badger\", \"rabbit\")\n",
        "print(class(animals))"
      ]
    },
    {
      "cell_type": "markdown",
      "source": [
        "        [1] \"character\""
      ],
      "metadata": {
        "id": "_XZJxWHsRwHW"
      }
    },
    {
      "cell_type": "markdown",
      "source": [
        "Define two vectors: numbers1 with the numbers 1 to 3 and numbers2 with the numbers 4 to 6.\n",
        "Use the c() function to combine the two vectors into a single vector named all_numbers.\n",
        "Print all_numbers to verify the combination."
      ],
      "metadata": {
        "id": "6t9FaBmfXOpv"
      }
    },
    {
      "cell_type": "code",
      "source": [
        "numbers1 <- 1:3\n",
        "numbers2 <- 4:6\n",
        "all_numbers <- c(numbers1, numbers2)\n",
        "print(all_numbers)"
      ],
      "metadata": {
        "id": "SF3URttwXrlW"
      },
      "execution_count": null,
      "outputs": []
    },
    {
      "cell_type": "markdown",
      "source": [
        "  \n",
        "        [1] 1 2 3 4 5 6"
      ],
      "metadata": {
        "id": "TKEJJPYiSDxG"
      }
    },
    {
      "cell_type": "markdown",
      "source": [
        "Create a vector called temperatures containing the temperatures of a location for a week (e.g., 25, 28, 30, 27, 29, 26, 31).\n",
        "Use the typeof() function to determine the data type of temperatures.\n",
        "What data type is temperatures?"
      ],
      "metadata": {
        "id": "eRbZonRUX7kK"
      }
    },
    {
      "cell_type": "code",
      "source": [
        "temperatures <- c(25, 28, 30, 27, 29, 26, 31)\n",
        "print(typeof(temperatures))"
      ],
      "metadata": {
        "id": "tnpH05EoX9sH"
      },
      "execution_count": null,
      "outputs": []
    },
    {
      "cell_type": "markdown",
      "source": [
        "        [1] \"double\""
      ],
      "metadata": {
        "id": "O7A3hh47TacE"
      }
    },
    {
      "cell_type": "markdown",
      "source": [
        "Suppose two more animals are added to the animals vector: \"elephant\" and \"tiger\".\n",
        "Remove the second animal from the animals vector.\n",
        "Print the modified animals vector to verify the removal."
      ],
      "metadata": {
        "id": "deTTG5EiX-HP"
      }
    },
    {
      "cell_type": "code",
      "source": [
        "more_animals <- c(\"elephant\", \"tiger\")\n",
        "animals <- c(animals, more_animals)\n",
        "animals <- animals[-2]\n",
        "print(animals)"
      ],
      "metadata": {
        "id": "vQkMGYIjRkrl"
      },
      "execution_count": null,
      "outputs": []
    },
    {
      "cell_type": "markdown",
      "source": [
        "      [1] \"fox\"      \"rabbit\"   \"elephant\" \"tiger\""
      ],
      "metadata": {
        "id": "ap84zvvcUXOs"
      }
    }
  ]
}